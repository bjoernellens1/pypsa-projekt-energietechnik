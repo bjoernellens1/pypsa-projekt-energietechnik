{
 "cells": [
  {
   "cell_type": "code",
   "execution_count": null,
   "id": "1db566f0",
   "metadata": {},
   "outputs": [],
   "source": [
    "Clone pypsa-eur repository\n",
    "==========================="
   ]
  },
  {
   "cell_type": "code",
   "execution_count": 2,
   "id": "38ccc98c",
   "metadata": {},
   "outputs": [
    {
     "name": "stdout",
     "output_type": "stream",
     "text": [
      "fatal: destination path 'pypsa-eur' already exists and is not an empty directory.\n"
     ]
    }
   ],
   "source": [
    "!git clone https://github.com/PyPSA/pypsa-eur.git"
   ]
  },
  {
   "cell_type": "markdown",
   "id": "1eec7565",
   "metadata": {},
   "source": [
    "run in a terminal:\n",
    "```bash\n",
    "conda env create -f pypsa-eur/envs/environment.yaml\n",
    "conda activate pypsa-eur\n",
    "```"
   ]
  },
  {
   "cell_type": "markdown",
   "id": "7a8ccb90",
   "metadata": {},
   "source": [
    "run in a terminal:\n",
    "```bash\n",
    "conda install gurobi\n",
    "```"
   ]
  }
 ],
 "metadata": {
  "kernelspec": {
   "display_name": ".venv",
   "language": "python",
   "name": "python3"
  },
  "language_info": {
   "codemirror_mode": {
    "name": "ipython",
    "version": 3
   },
   "file_extension": ".py",
   "mimetype": "text/x-python",
   "name": "python",
   "nbconvert_exporter": "python",
   "pygments_lexer": "ipython3",
   "version": "3.12.3"
  }
 },
 "nbformat": 4,
 "nbformat_minor": 5
}
